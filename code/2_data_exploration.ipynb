{
 "cells": [
  {
   "cell_type": "markdown",
   "metadata": {},
   "source": [
    "# Part 2: Data Exploration"
   ]
  },
  {
   "cell_type": "markdown",
   "metadata": {},
   "source": [
    "This notebook does some basic **exploratory data analysis** (EDA) of the loan churn data.\n",
    "Here, we get a qualitative and a quantitative sense of the data,\n",
    "what kind of cleanup it might need before we can use it,\n",
    "and if there are any specific patterns that can be discerned.\n",
    "\n",
    "If you haven't yet, run through the initialization steps in the README file and Part 1.\n",
    "In Part 1, the data is imported into the table you specified in Hive. All new data accesses will fetch from Hive if available, otherwise the local copy of the data will be used."
   ]
  },
  {
   "cell_type": "markdown",
   "metadata": {},
   "source": [
    "## Load data\n",
    "\n",
    "We start by creating a `SparkSession` to fetch the data using Spark SQL."
   ]
  },
  {
   "cell_type": "code",
   "execution_count": 1,
   "metadata": {
    "tags": []
   },
   "outputs": [
    {
     "name": "stderr",
     "output_type": "stream",
     "text": [
      "Hive Session ID = 219dff3c-b3c5-43be-98e2-38a40a975f81\n",
      "                                                                                \r"
     ]
    },
    {
     "data": {
      "text/html": [
       "<div>\n",
       "<style scoped>\n",
       "    .dataframe tbody tr th:only-of-type {\n",
       "        vertical-align: middle;\n",
       "    }\n",
       "\n",
       "    .dataframe tbody tr th {\n",
       "        vertical-align: top;\n",
       "    }\n",
       "\n",
       "    .dataframe thead th {\n",
       "        text-align: right;\n",
       "    }\n",
       "</style>\n",
       "<table border=\"1\" class=\"dataframe\">\n",
       "  <thead>\n",
       "    <tr style=\"text-align: right;\">\n",
       "      <th></th>\n",
       "      <th>Loan_ID</th>\n",
       "      <th>Gender</th>\n",
       "      <th>Married</th>\n",
       "      <th>Dependents</th>\n",
       "      <th>Education</th>\n",
       "      <th>Self_Employed</th>\n",
       "      <th>ApplicantIncome</th>\n",
       "      <th>CoapplicantIncome</th>\n",
       "      <th>LoanAmount</th>\n",
       "      <th>Loan_Amount_Term</th>\n",
       "      <th>CreditHistory</th>\n",
       "      <th>Property_Area</th>\n",
       "      <th>Loan_Status</th>\n",
       "    </tr>\n",
       "  </thead>\n",
       "  <tbody>\n",
       "    <tr>\n",
       "      <th>0</th>\n",
       "      <td>LP001002</td>\n",
       "      <td>Male</td>\n",
       "      <td>No</td>\n",
       "      <td>0</td>\n",
       "      <td>Graduate</td>\n",
       "      <td>No</td>\n",
       "      <td>5849.0</td>\n",
       "      <td>0.0</td>\n",
       "      <td>NaN</td>\n",
       "      <td>360.0</td>\n",
       "      <td>1</td>\n",
       "      <td>Urban</td>\n",
       "      <td>Y</td>\n",
       "    </tr>\n",
       "    <tr>\n",
       "      <th>1</th>\n",
       "      <td>LP001003</td>\n",
       "      <td>Male</td>\n",
       "      <td>Yes</td>\n",
       "      <td>1</td>\n",
       "      <td>Graduate</td>\n",
       "      <td>No</td>\n",
       "      <td>4583.0</td>\n",
       "      <td>1508.0</td>\n",
       "      <td>128.0</td>\n",
       "      <td>360.0</td>\n",
       "      <td>1</td>\n",
       "      <td>Rural</td>\n",
       "      <td>N</td>\n",
       "    </tr>\n",
       "    <tr>\n",
       "      <th>2</th>\n",
       "      <td>LP001005</td>\n",
       "      <td>Male</td>\n",
       "      <td>Yes</td>\n",
       "      <td>0</td>\n",
       "      <td>Graduate</td>\n",
       "      <td>Yes</td>\n",
       "      <td>3000.0</td>\n",
       "      <td>0.0</td>\n",
       "      <td>66.0</td>\n",
       "      <td>360.0</td>\n",
       "      <td>1</td>\n",
       "      <td>Urban</td>\n",
       "      <td>Y</td>\n",
       "    </tr>\n",
       "    <tr>\n",
       "      <th>3</th>\n",
       "      <td>LP001006</td>\n",
       "      <td>Male</td>\n",
       "      <td>Yes</td>\n",
       "      <td>0</td>\n",
       "      <td>Not Graduate</td>\n",
       "      <td>No</td>\n",
       "      <td>2583.0</td>\n",
       "      <td>2358.0</td>\n",
       "      <td>120.0</td>\n",
       "      <td>360.0</td>\n",
       "      <td>1</td>\n",
       "      <td>Urban</td>\n",
       "      <td>Y</td>\n",
       "    </tr>\n",
       "    <tr>\n",
       "      <th>4</th>\n",
       "      <td>LP001008</td>\n",
       "      <td>Male</td>\n",
       "      <td>No</td>\n",
       "      <td>0</td>\n",
       "      <td>Graduate</td>\n",
       "      <td>No</td>\n",
       "      <td>6000.0</td>\n",
       "      <td>0.0</td>\n",
       "      <td>141.0</td>\n",
       "      <td>360.0</td>\n",
       "      <td>1</td>\n",
       "      <td>Urban</td>\n",
       "      <td>Y</td>\n",
       "    </tr>\n",
       "  </tbody>\n",
       "</table>\n",
       "</div>"
      ],
      "text/plain": [
       "    Loan_ID Gender Married Dependents     Education Self_Employed  \\\n",
       "0  LP001002   Male      No          0      Graduate            No   \n",
       "1  LP001003   Male     Yes          1      Graduate            No   \n",
       "2  LP001005   Male     Yes          0      Graduate           Yes   \n",
       "3  LP001006   Male     Yes          0  Not Graduate            No   \n",
       "4  LP001008   Male      No          0      Graduate            No   \n",
       "\n",
       "   ApplicantIncome  CoapplicantIncome  LoanAmount  Loan_Amount_Term  \\\n",
       "0           5849.0                0.0         NaN             360.0   \n",
       "1           4583.0             1508.0       128.0             360.0   \n",
       "2           3000.0                0.0        66.0             360.0   \n",
       "3           2583.0             2358.0       120.0             360.0   \n",
       "4           6000.0                0.0       141.0             360.0   \n",
       "\n",
       "  CreditHistory Property_Area Loan_Status  \n",
       "0             1         Urban           Y  \n",
       "1             1         Rural           N  \n",
       "2             1         Urban           Y  \n",
       "3             1         Urban           Y  \n",
       "4             1         Urban           Y  "
      ]
     },
     "execution_count": 1,
     "metadata": {},
     "output_type": "execute_result"
    }
   ],
   "source": [
    "import os\n",
    "from pyspark.sql import SparkSession\n",
    "from pyspark.sql.types import *\n",
    "\n",
    "hive_database = os.environ['HIVE_DATABASE']\n",
    "hive_table = os.environ['HIVE_TABLE']\n",
    "hive_table_fq = hive_database + '.' + hive_table\n",
    "\n",
    "# connect to Spark\n",
    "spark = SparkSession\\\n",
    "    .builder\\\n",
    "    .appName(\"Loan Data Set\")\\\n",
    "    .master(\"local[*]\") \\\n",
    "    .getOrCreate()\n",
    "\n",
    "# read data into a Spark DataFrame\n",
    "if os.environ[\"STORAGE_MODE\"] == \"external\":\n",
    "    loan_data_raw = spark.sql(\"SELECT * FROM \" + hive_table_fq)\n",
    "else:\n",
    "    path = \"/home/cdsw/raw/loan_data.csv\"\n",
    "    schema = StructType(\n",
    "        [\n",
    "            StructField(\"Loan_ID\", StringType(), True),\n",
    "            StructField(\"Gender\", StringType(), True),\n",
    "            StructField(\"Married\", StringType(), True),\n",
    "            StructField(\"Dependents\", StringType(), True),\n",
    "            StructField(\"Education\", StringType(), True),\n",
    "            StructField(\"Self_Employed\", StringType(), True),\n",
    "            StructField(\"ApplicantIncome\", DoubleType(), True),\n",
    "            StructField(\"CoapplicantIncome\", DoubleType(), True),\n",
    "            StructField(\"LoanAmount\", DoubleType(), True),\n",
    "            StructField(\"Loan_Amount_Term\", DoubleType(), True),\n",
    "            StructField(\"CreditHistory\", StringType(), True),\n",
    "            StructField(\"Property_Area\", StringType(), True),\n",
    "            StructField(\"Loan_Status\", StringType(), True),\n",
    "        ]\n",
    "    )\n",
    "    loan_data_raw = spark.read.csv(path, header=True, sep=\",\", schema=schema, nullValue=\"NA\")\n",
    "\n",
    "# print a few rows\n",
    "loan_data_raw.toPandas().head()"
   ]
  },
  {
   "cell_type": "markdown",
   "metadata": {},
   "source": [
    "## Analysis using Spark DataFrames\n",
    "\n",
    "Spark Dataframes essentially allow you to express SQL-like statements with the horizontal scalability of Spark. \n",
    "You can perform your familiar filter, count, groupby etc. \n",
    "\n",
    "For more, see the [official Spark Documentation](http://spark.apache.org/docs/latest/sql-programming-guide.html).\n",
    "\n",
    "We demonstrate some high-level stats and basic aggregations you might do to get an initial sense of the data."
   ]
  },
  {
   "cell_type": "code",
   "execution_count": 2,
   "metadata": {
    "tags": []
   },
   "outputs": [
    {
     "data": {
      "text/plain": [
       "981"
      ]
     },
     "execution_count": 2,
     "metadata": {},
     "output_type": "execute_result"
    }
   ],
   "source": [
    "# total number of customers in the dataset\n",
    "loan_data_raw.count()"
   ]
  },
  {
   "cell_type": "code",
   "execution_count": 3,
   "metadata": {
    "tags": []
   },
   "outputs": [
    {
     "name": "stdout",
     "output_type": "stream",
     "text": [
      "+----------+-----+\n",
      "|Dependents|count|\n",
      "+----------+-----+\n",
      "|         0|  545|\n",
      "|      null|   25|\n",
      "|         1|  160|\n",
      "|        3+|   91|\n",
      "|         2|  160|\n",
      "+----------+-----+\n",
      "\n"
     ]
    }
   ],
   "source": [
    "# count of customers by dependents type \n",
    "loan_data_raw.groupby(\"Dependents\")\\\n",
    "              .count()\\\n",
    "              .show()"
   ]
  },
  {
   "cell_type": "markdown",
   "metadata": {},
   "source": [
    "### Create Temporary Spark Table\n",
    "\n",
    "Using the `createOrReplaceTempView` functions allows you register a temporary table (called a view) in Spark.\n",
    "This lets you use SQL syntax to make the queries instead of the method chaining we used in the last statement.\n"
   ]
  },
  {
   "cell_type": "code",
   "execution_count": 4,
   "metadata": {
    "tags": []
   },
   "outputs": [
    {
     "name": "stdout",
     "output_type": "stream",
     "text": [
      "+-----------+--------+\n",
      "|Loan_Status|count(1)|\n",
      "+-----------+--------+\n",
      "|       null|     367|\n",
      "|          Y|     422|\n",
      "|          N|     192|\n",
      "+-----------+--------+\n",
      "\n"
     ]
    }
   ],
   "source": [
    "loan_data_raw.createOrReplaceTempView(\"loan\")\n",
    "spark.sql(\"SELECT Loan_Status, count(*) FROM loan GROUP BY Loan_Status\").show()"
   ]
  },
  {
   "cell_type": "markdown",
   "metadata": {},
   "source": [
    "As you can see, there are some null values in the `Loan_Status` column,\n",
    "which is the label column telling us whether the loan has been approved or not.\n",
    "We'll have to clean the rows with those nulls out since we don't know their true labels."
   ]
  },
  {
   "cell_type": "code",
   "execution_count": 5,
   "metadata": {
    "tags": []
   },
   "outputs": [],
   "source": [
    "loan_data = loan_data_raw.filter(loan_data_raw.Loan_Status.isNotNull())"
   ]
  },
  {
   "cell_type": "code",
   "execution_count": 7,
   "metadata": {
    "tags": []
   },
   "outputs": [
    {
     "data": {
      "text/plain": [
       "'Loans total: 614, Approved : 422, Declined : 192'"
      ]
     },
     "execution_count": 7,
     "metadata": {},
     "output_type": "execute_result"
    }
   ],
   "source": [
    "total_loans = loan_data.count()\n",
    "approved_loans = loan_data.filter(loan_data.Loan_Status == 'Y').count()\n",
    "declined_loans = loan_data.filter(loan_data.Loan_Status == 'N').count()\n",
    "\n",
    "\"Loans total: {}, Approved : {}, Declined : {}\".format(total_loans, approved_loans, declined_loans)"
   ]
  },
  {
   "cell_type": "markdown",
   "metadata": {},
   "source": [
    "## Data visualisation\n",
    "\n",
    "Exploratory data analysis usually involves a fair bit of data visualization. \n",
    "The workflow for large data sets is usually:\n",
    "\n",
    "* [Take a sample](https://spark.apache.org/docs/latest/api/python/pyspark.sql.html#pyspark.sql.DataFrame.sample) of the data so it fits in memory on a single machine.\n",
    "* Examine single variable distributions.\n",
    "* Examine joint distributions and correlations.\n",
    "* Look for other types of relationships.\n",
    "\n",
    "We start with taking a 50% sample and saving it in a pandas DataFrame to feed into our visualizations."
   ]
  },
  {
   "cell_type": "code",
   "execution_count": 8,
   "metadata": {
    "tags": []
   },
   "outputs": [
    {
     "data": {
      "text/html": [
       "<div>\n",
       "<style scoped>\n",
       "    .dataframe tbody tr th:only-of-type {\n",
       "        vertical-align: middle;\n",
       "    }\n",
       "\n",
       "    .dataframe tbody tr th {\n",
       "        vertical-align: top;\n",
       "    }\n",
       "\n",
       "    .dataframe thead th {\n",
       "        text-align: right;\n",
       "    }\n",
       "</style>\n",
       "<table border=\"1\" class=\"dataframe\">\n",
       "  <thead>\n",
       "    <tr style=\"text-align: right;\">\n",
       "      <th></th>\n",
       "      <th>0</th>\n",
       "      <th>1</th>\n",
       "      <th>2</th>\n",
       "      <th>3</th>\n",
       "      <th>4</th>\n",
       "    </tr>\n",
       "  </thead>\n",
       "  <tbody>\n",
       "    <tr>\n",
       "      <th>Loan_ID</th>\n",
       "      <td>LP001002</td>\n",
       "      <td>LP001005</td>\n",
       "      <td>LP001006</td>\n",
       "      <td>LP001013</td>\n",
       "      <td>LP001027</td>\n",
       "    </tr>\n",
       "    <tr>\n",
       "      <th>Gender</th>\n",
       "      <td>Male</td>\n",
       "      <td>Male</td>\n",
       "      <td>Male</td>\n",
       "      <td>Male</td>\n",
       "      <td>Male</td>\n",
       "    </tr>\n",
       "    <tr>\n",
       "      <th>Married</th>\n",
       "      <td>No</td>\n",
       "      <td>Yes</td>\n",
       "      <td>Yes</td>\n",
       "      <td>Yes</td>\n",
       "      <td>Yes</td>\n",
       "    </tr>\n",
       "    <tr>\n",
       "      <th>Dependents</th>\n",
       "      <td>0</td>\n",
       "      <td>0</td>\n",
       "      <td>0</td>\n",
       "      <td>0</td>\n",
       "      <td>2</td>\n",
       "    </tr>\n",
       "    <tr>\n",
       "      <th>Education</th>\n",
       "      <td>Graduate</td>\n",
       "      <td>Graduate</td>\n",
       "      <td>Not Graduate</td>\n",
       "      <td>Not Graduate</td>\n",
       "      <td>Graduate</td>\n",
       "    </tr>\n",
       "    <tr>\n",
       "      <th>Self_Employed</th>\n",
       "      <td>No</td>\n",
       "      <td>Yes</td>\n",
       "      <td>No</td>\n",
       "      <td>No</td>\n",
       "      <td>None</td>\n",
       "    </tr>\n",
       "    <tr>\n",
       "      <th>ApplicantIncome</th>\n",
       "      <td>5849</td>\n",
       "      <td>3000</td>\n",
       "      <td>2583</td>\n",
       "      <td>2333</td>\n",
       "      <td>2500</td>\n",
       "    </tr>\n",
       "    <tr>\n",
       "      <th>CoapplicantIncome</th>\n",
       "      <td>0</td>\n",
       "      <td>0</td>\n",
       "      <td>2358</td>\n",
       "      <td>1516</td>\n",
       "      <td>1840</td>\n",
       "    </tr>\n",
       "    <tr>\n",
       "      <th>LoanAmount</th>\n",
       "      <td>NaN</td>\n",
       "      <td>66</td>\n",
       "      <td>120</td>\n",
       "      <td>95</td>\n",
       "      <td>109</td>\n",
       "    </tr>\n",
       "    <tr>\n",
       "      <th>Loan_Amount_Term</th>\n",
       "      <td>360</td>\n",
       "      <td>360</td>\n",
       "      <td>360</td>\n",
       "      <td>360</td>\n",
       "      <td>360</td>\n",
       "    </tr>\n",
       "    <tr>\n",
       "      <th>CreditHistory</th>\n",
       "      <td>1</td>\n",
       "      <td>1</td>\n",
       "      <td>1</td>\n",
       "      <td>1</td>\n",
       "      <td>1</td>\n",
       "    </tr>\n",
       "    <tr>\n",
       "      <th>Property_Area</th>\n",
       "      <td>Urban</td>\n",
       "      <td>Urban</td>\n",
       "      <td>Urban</td>\n",
       "      <td>Urban</td>\n",
       "      <td>Urban</td>\n",
       "    </tr>\n",
       "    <tr>\n",
       "      <th>Loan_Status</th>\n",
       "      <td>Y</td>\n",
       "      <td>Y</td>\n",
       "      <td>Y</td>\n",
       "      <td>Y</td>\n",
       "      <td>Y</td>\n",
       "    </tr>\n",
       "  </tbody>\n",
       "</table>\n",
       "</div>"
      ],
      "text/plain": [
       "                          0         1             2             3         4\n",
       "Loan_ID            LP001002  LP001005      LP001006      LP001013  LP001027\n",
       "Gender                 Male      Male          Male          Male      Male\n",
       "Married                  No       Yes           Yes           Yes       Yes\n",
       "Dependents                0         0             0             0         2\n",
       "Education          Graduate  Graduate  Not Graduate  Not Graduate  Graduate\n",
       "Self_Employed            No       Yes            No            No      None\n",
       "ApplicantIncome        5849      3000          2583          2333      2500\n",
       "CoapplicantIncome         0         0          2358          1516      1840\n",
       "LoanAmount              NaN        66           120            95       109\n",
       "Loan_Amount_Term        360       360           360           360       360\n",
       "CreditHistory             1         1             1             1         1\n",
       "Property_Area         Urban     Urban         Urban         Urban     Urban\n",
       "Loan_Status               Y         Y             Y             Y         Y"
      ]
     },
     "execution_count": 8,
     "metadata": {},
     "output_type": "execute_result"
    }
   ],
   "source": [
    "# Note: toPandas() => brings data locally into a Pandas DataFrame\n",
    "sample_data = loan_data.sample(withReplacement=False, fraction=0.5, seed=83).toPandas()\n",
    "sample_data.head().T  # transpose for easier reading"
   ]
  },
  {
   "cell_type": "markdown",
   "metadata": {},
   "source": [
    "### Feature distributions (and installing packages)\n",
    "\n",
    "We want to examine the distribution of our features, so start with them one at a time.\n",
    "\n",
    "Let's use seaborn's [distplot() function](https://seaborn.pydata.org/generated/seaborn.distplot.html) to easily examine the distribution of a column.\n",
    "\n",
    "In the initialisation step when you run `0_bootstrap.py` file, the python requirements are installed. If you have not run that step yet, and seaborn is not installed, you can [**install it and other python packages**](https://docs.cloudera.com/machine-learning/cloud/engines/topics/ml-install-pkg-lib.html) now. \n",
    "\n",
    "> Navigate to your Project's **Overview** page. Click **Open Workbench** and launch a session.\n",
    "> Install using the `!` shell operator: \n",
    "> \n",
    "> `!pip3 install seaborn`. \n",
    "> \n",
    "> This is also how you would install from a `requirements.txt` file:\n",
    "> \n",
    "> `!pip3 install -r requirements.txt`\n",
    "> \n",
    "\n",
    "These packages will be available to all scripts and notebooks in the Project, \n",
    "similar to installing a repo's `requirements.txt` dependencies into a *virtualenv*."
   ]
  },
  {
   "cell_type": "code",
   "execution_count": 15,
   "metadata": {
    "tags": []
   },
   "outputs": [
    {
     "data": {
      "image/png": "[encoded data removed]",
      "text/plain": [
       "<Figure size 432x288 with 1 Axes>"
      ]
     },
     "metadata": {},
     "output_type": "display_data"
    }
   ],
   "source": [
    "import matplotlib.pyplot as plt\n",
    "import seaborn as sns\n",
    "\n",
    "plt.grid(b=None)\n",
    "plt.title(\"Income Distribution\",color='grey')\n",
    "plt.xticks(color='grey')\n",
    "plt.yticks(color='grey')\n",
    "\n",
    "sns.set_style(\"whitegrid\")\n",
    "sns.despine(left=True,bottom=True)\n",
    "\n",
    "sns.histplot(sample_data['ApplicantIncome'], kde=False);"
   ]
  },
  {
   "cell_type": "markdown",
   "metadata": {},
   "source": [
    "<div style=\"width:640px;font-size:16px;background-color:WhiteSmoke;padding:15px\">\n",
    "\n",
    "We can examine feature differences in the distribution of our features when we condition (split) our data.\n",
    "We'll use [seaborn's BoxPlot function](https://seaborn.pydata.org/generated/seaborn.boxplot.html?highlight=boxplot#seaborn.boxplot) for this, \n",
    "though we could have also use many other functions or entirely different packages.\n",
    "\n",
    "<div>"
   ]
  },
  {
   "cell_type": "code",
   "execution_count": 16,
   "metadata": {
    "tags": []
   },
   "outputs": [
    {
     "data": {
      "image/png": "[encoded data removed]",
      "text/plain": [
       "<Figure size 432x288 with 1 Axes>"
      ]
     },
     "metadata": {},
     "output_type": "display_data"
    }
   ],
   "source": [
    "plt.grid(b=None)\n",
    "plt.title(\"Income Box Plot\",color='grey')\n",
    "plt.xticks(color='grey')\n",
    "plt.yticks(color='grey')\n",
    "plt.xlabel(\"\",color='grey')\n",
    "plt.ylabel(\"\",color='grey')\n",
    "\n",
    "sns.set_style(\"whitegrid\")\n",
    "sns.despine(left=True,bottom=True)\n",
    "\n",
    "sns.boxplot(x=\"Loan_Status\", y=\"ApplicantIncome\", data=sample_data);"
   ]
  },
  {
   "cell_type": "markdown",
   "metadata": {},
   "source": [
    "In these examples, we only examined one column,\n",
    "but a complete analysis would examine all the rest for data quality issues or potentially useful or useless features."
   ]
  },
  {
   "cell_type": "markdown",
   "metadata": {},
   "source": [
    "## Joint Distributions\n",
    "Looking at joint distributions of data can also tell us a lot, particularly about duplicated features that need removing.\n",
    "[Seaborn's PairPlot](https://seaborn.pydata.org/generated/seaborn.pairplot.html?highlight=pairplot#seaborn.pairplot) is a quick way to look at joint distributions for many variables at once.\n",
    "Note that it may struggle with a large number of columns, so we demonstrate with three."
   ]
  },
  {
   "cell_type": "code",
   "execution_count": 17,
   "metadata": {
    "tags": []
   },
   "outputs": [
    {
     "data": {
      "image/png": "[encoded data removed]",
      "text/plain": [
       "<Figure size 608.625x540 with 12 Axes>"
      ]
     },
     "metadata": {},
     "output_type": "display_data"
    }
   ],
   "source": [
    "sns.set_style(\"whitegrid\")\n",
    "example_numeric_data = sample_data[[\"Loan_Amount_Term\", \"LoanAmount\",\"ApplicantIncome\",\"Loan_Status\"]]  # pick a few columns\n",
    "sns.pairplot(example_numeric_data, hue=\"Loan_Status\");"
   ]
  },
  {
   "cell_type": "markdown",
   "metadata": {},
   "source": [
    "## Stop the Spark session\n",
    "Jupyter Notebooks take longer to timeout than regular workbench sessions, so its good practice to add a `spark.stop()` call in you notebook to make sure any spark resources are added back to the cluster if you aren't using them."
   ]
  },
  {
   "cell_type": "code",
   "execution_count": 18,
   "metadata": {
    "tags": []
   },
   "outputs": [],
   "source": [
    "spark.stop()"
   ]
  },
  {
   "cell_type": "markdown",
   "metadata": {},
   "source": [
    "## Wrap up\n",
    "We've now covered a quick **exploratory data analysis** using Spark SQL, Spark DataFrames, and seaborn.\n",
    "We've also explained how to **install packages** in a CML Project.\n",
    "This is just a taste, and you can install any of your favorite packages—even custom ones—to dig even further."
   ]
  },
  {
   "cell_type": "markdown",
   "metadata": {},
   "source": [
    "***If this documentation includes code, including but not limited to, code examples, Cloudera makes this available to you under the terms of the Apache License, Version 2.0, including any required notices.  A copy of the Apache License Version 2.0 can be found [here](https://opensource.org/licenses/Apache-2.0).***"
   ]
  },
  {
   "cell_type": "code",
   "execution_count": null,
   "metadata": {},
   "outputs": [],
   "source": []
  }
 ],
 "metadata": {
  "kernelspec": {
   "display_name": "Python 3 (ipykernel)",
   "language": "python",
   "name": "python3"
  },
  "language_info": {
   "codemirror_mode": {
    "name": "ipython",
    "version": 3
   },
   "file_extension": ".py",
   "mimetype": "text/x-python",
   "name": "python",
   "nbconvert_exporter": "python",
   "pygments_lexer": "ipython3",
   "version": "3.7.16"
  }
 },
 "nbformat": 4,
 "nbformat_minor": 4
}
